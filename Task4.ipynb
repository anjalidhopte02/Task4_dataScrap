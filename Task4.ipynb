{
 "cells": [
  {
   "cell_type": "markdown",
   "metadata": {},
   "source": [
    "## Task\n",
    "\n",
    "* Put\n",
    "* patch\n",
    "* delete \n",
    "* do all this method with example in request"
   ]
  },
  {
   "cell_type": "markdown",
   "metadata": {},
   "source": [
    "# Put"
   ]
  },
  {
   "cell_type": "code",
   "execution_count": 2,
   "metadata": {},
   "outputs": [
    {
     "name": "stdout",
     "output_type": "stream",
     "text": [
      "{'args': {}, 'data': '{\"my_key\": \"Hello, World!\", \"username\": \"User123\", \"email\": \"email123@example.com\"}', 'files': {}, 'form': {}, 'headers': {'Accept': '*/*', 'Accept-Encoding': 'gzip, deflate', 'Content-Length': '83', 'Content-Type': 'application/json', 'Host': 'httpbin.org', 'User-Agent': 'python-requests/2.31.0', 'X-Amzn-Trace-Id': 'Root=1-66d7dda6-306ffb7267d59c881755b2f2'}, 'json': {'email': 'email123@example.com', 'my_key': 'Hello, World!', 'username': 'User123'}, 'origin': '103.111.133.204', 'url': 'https://httpbin.org/put'}\n"
     ]
    }
   ],
   "source": [
    "import requests\n",
    "\n",
    "url='https://httpbin.org/put'\n",
    "\n",
    "json={\n",
    "    \"my_key\": \"Hello, World!\",\n",
    "    'username':'User123',\n",
    "    'email':'email123@example.com'\n",
    "}\n",
    "\n",
    "response =requests.put(url,json=json)\n",
    "\n",
    "json_response=response.json()\n",
    "\n",
    "print(json_response)\n"
   ]
  },
  {
   "cell_type": "markdown",
   "metadata": {},
   "source": [
    "## Patch"
   ]
  },
  {
   "cell_type": "code",
   "execution_count": 5,
   "metadata": {},
   "outputs": [
    {
     "name": "stdout",
     "output_type": "stream",
     "text": [
      "{'args': {}, 'data': '{\"my_key\": \"Welcome!\", \"username\": \"User123\"}', 'files': {}, 'form': {}, 'headers': {'Accept': '*/*', 'Accept-Encoding': 'gzip, deflate', 'Content-Length': '45', 'Content-Type': 'application/json', 'Host': 'httpbin.org', 'User-Agent': 'python-requests/2.31.0', 'X-Amzn-Trace-Id': 'Root=1-66d7de91-3fcb19a13f389dc06e17cf03'}, 'json': {'my_key': 'Welcome!', 'username': 'User123'}, 'origin': '103.111.133.204', 'url': 'https://httpbin.org/patch'}\n"
     ]
    }
   ],
   "source": [
    "import requests\n",
    "\n",
    "url='https://httpbin.org/patch'\n",
    "\n",
    "json={\n",
    "    \"my_key\": \"Welcome!\",\n",
    "    'username':'User123'\n",
    "}\n",
    "\n",
    "response =requests.patch(url,json=json)\n",
    "\n",
    "json_response=response.json()\n",
    "\n",
    "print(json_response)"
   ]
  },
  {
   "cell_type": "markdown",
   "metadata": {},
   "source": [
    "## Delete"
   ]
  },
  {
   "cell_type": "code",
   "execution_count": 7,
   "metadata": {},
   "outputs": [
    {
     "name": "stdout",
     "output_type": "stream",
     "text": [
      "{'args': {}, 'data': '', 'files': {}, 'form': {}, 'headers': {'Accept': '*/*', 'Accept-Encoding': 'gzip, deflate', 'Content-Length': '0', 'Host': 'httpbin.org', 'User-Agent': 'python-requests/2.31.0', 'X-Amzn-Trace-Id': 'Root=1-66d7df36-757f84757721f18e5f745e82'}, 'json': None, 'origin': '103.111.133.204', 'url': 'https://httpbin.org/delete'}\n"
     ]
    }
   ],
   "source": [
    "import requests\n",
    "\n",
    "url='https://httpbin.org/delete'\n",
    "\n",
    "\n",
    "response =requests.delete(url)\n",
    "\n",
    "json_response=response.json()\n",
    "\n",
    "print(json_response)\n",
    "\n",
    "\n"
   ]
  }
 ],
 "metadata": {
  "kernelspec": {
   "display_name": "Python 3",
   "language": "python",
   "name": "python3"
  },
  "language_info": {
   "codemirror_mode": {
    "name": "ipython",
    "version": 3
   },
   "file_extension": ".py",
   "mimetype": "text/x-python",
   "name": "python",
   "nbconvert_exporter": "python",
   "pygments_lexer": "ipython3",
   "version": "3.12.5"
  }
 },
 "nbformat": 4,
 "nbformat_minor": 2
}
